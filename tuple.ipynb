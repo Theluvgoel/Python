{
  "nbformat": 4,
  "nbformat_minor": 0,
  "metadata": {
    "colab": {
      "provenance": []
    },
    "kernelspec": {
      "name": "python3",
      "display_name": "Python 3"
    },
    "language_info": {
      "name": "python"
    }
  },
  "cells": [
    {
      "cell_type": "code",
      "execution_count": null,
      "metadata": {
        "id": "btaZZZ9zFNft"
      },
      "outputs": [],
      "source": [
        "#Find the Size of a Tuple\n",
        "t = (1, 2, 3)\n",
        "size = len(t)\n",
        "print(size)"
      ]
    },
    {
      "cell_type": "code",
      "source": [
        "#Maximum and Minimum K Elements in Tuple\n",
        "t = (5, 1, 3, 9, 7)\n",
        "k = 2\n",
        "max_k = sorted(t, reverse=True)[:k]\n",
        "min_k = sorted(t)[:k]\n",
        "print(max_k, min_k)"
      ],
      "metadata": {
        "id": "w_AfYikFFSp6"
      },
      "execution_count": null,
      "outputs": []
    },
    {
      "cell_type": "code",
      "source": [
        "# Create a List of Tuples from Given List Having Number and Its Cube\n",
        "numbers = [1, 2, 3]\n",
        "cubes = [(x, x**3) for x in numbers]\n",
        "print(cubes)"
      ],
      "metadata": {
        "id": "IBGi1XXnFmy3"
      },
      "execution_count": null,
      "outputs": []
    },
    {
      "cell_type": "code",
      "source": [
        "#Adding Tuple to List and Vice-Versa\n",
        "t = (1, 2)\n",
        "lst = [3, 4]\n",
        "lst.append(t)  # Adding tuple to list\n",
        "print(lst)\n",
        "t = tuple(lst)  # Converting list to tuple\n",
        "print(t)"
      ],
      "metadata": {
        "id": "CWWwIPjQFtN5"
      },
      "execution_count": null,
      "outputs": []
    },
    {
      "cell_type": "code",
      "source": [
        "#Sum of Tuple Elements\n",
        "t = (1, 2, 3)\n",
        "total = sum(t)\n",
        "print(total)"
      ],
      "metadata": {
        "id": "3wQah9aGF3Ha"
      },
      "execution_count": null,
      "outputs": []
    },
    {
      "cell_type": "code",
      "source": [
        "#Modulo of Tuple Elements\n",
        "t = (10, 20, 30)\n",
        "mod_t = tuple(x % 3 for x in t)\n",
        "print(mod_t)"
      ],
      "metadata": {
        "id": "aghmLvF3F8ie"
      },
      "execution_count": null,
      "outputs": []
    },
    {
      "cell_type": "code",
      "source": [
        "#Row-wise Element Addition in Tuple Matrix\n",
        "matrix = ((1, 2), (3, 4))\n",
        "row_sums = tuple(sum(row) for row in matrix)\n",
        "print(row_sums)"
      ],
      "metadata": {
        "id": "q847kAYoGFJn"
      },
      "execution_count": null,
      "outputs": []
    },
    {
      "cell_type": "code",
      "source": [
        "#Update Each Element in Tuple List\n",
        "t_list = [(1, 2), (3, 4)]\n",
        "updated = [(x + 1, y + 1) for x, y in t_list]\n",
        "print(updated)"
      ],
      "metadata": {
        "id": "b0z7VMuaGTJp"
      },
      "execution_count": null,
      "outputs": []
    },
    {
      "cell_type": "code",
      "source": [
        "#Join Tuples if Similar Initial Element\n",
        "t1 = (1, 2)\n",
        "t2 = (1, 3)\n",
        "joined = t1 + t2 if t1[0] == t2[0] else (t1, t2)\n",
        "print(joined)"
      ],
      "metadata": {
        "id": "HUer1sc_GeO2"
      },
      "execution_count": null,
      "outputs": []
    },
    {
      "cell_type": "code",
      "source": [
        "#All Pair Combinations of 2 Tuples\n",
        "from itertools import product\n",
        "\n",
        "t1 = (1, 2)\n",
        "t2 = (3, 4)\n",
        "combinations = list(product(t1, t2))\n",
        "print(combinations)"
      ],
      "metadata": {
        "colab": {
          "base_uri": "https://localhost:8080/"
        },
        "id": "xdPT_tJGHEGi",
        "outputId": "9f8c18ae-7f10-4de0-b9d5-4b96ee54451c"
      },
      "execution_count": 3,
      "outputs": [
        {
          "output_type": "stream",
          "name": "stdout",
          "text": [
            "[(1, 3), (1, 4), (2, 3), (2, 4)]\n"
          ]
        }
      ]
    },
    {
      "cell_type": "code",
      "source": [
        "#Remove Tuples of Length K\n",
        "lst = [(1, 2), (3, 4), (5, 6)]\n",
        "k = 2\n",
        "filtered = [t for t in lst if len(t) != k]\n",
        "print(filtered)"
      ],
      "metadata": {
        "id": "o6UWjVA4HjNP"
      },
      "execution_count": null,
      "outputs": []
    },
    {
      "cell_type": "code",
      "source": [
        "#Remove Tuples from the List Having Every Element as None\n",
        "lst = [(1, 2), (None, None), (3, 4)]\n",
        "filtered = [t for t in lst if all(x is None for x in t)]\n",
        "print(filtered)"
      ],
      "metadata": {
        "id": "GLpXyPbrH0ml"
      },
      "execution_count": null,
      "outputs": []
    },
    {
      "cell_type": "code",
      "source": [
        "#Sort a List of Tuples by Second Item\n",
        "t_list = [(1, 3), (2, 1), (3, 2)]\n",
        "sorted_list = sorted(t_list, key=lambda x: x[1])\n",
        "print(sorted_list)"
      ],
      "metadata": {
        "id": "lxnD5uOZH7Qp"
      },
      "execution_count": null,
      "outputs": []
    },
    {
      "cell_type": "code",
      "source": [
        "#Sort Tuples by Total Digits\n",
        "t_list = [(1, 23), (4, 5), (12, 3)]\n",
        "sorted_list = sorted(t_list, key=lambda x: sum(len(str(i)) for i in x))\n",
        "print(sorted_list)"
      ],
      "metadata": {
        "id": "ZZJczugnIH1D"
      },
      "execution_count": null,
      "outputs": []
    },
    {
      "cell_type": "code",
      "source": [
        "#Filter Range Length Tuples\n",
        "t_list = [(1, 2), (3, 4, 5), (6,)]\n",
        "filtered = [t for t in t_list if 2 <= len(t) <= 3]\n",
        "print(filtered)"
      ],
      "metadata": {
        "id": "pENpxgunJDaY"
      },
      "execution_count": null,
      "outputs": []
    },
    {
      "cell_type": "code",
      "source": [
        "#Removing Duplicates from Tuple\n",
        "t = (1, 2, 2, 3)\n",
        "result = tuple(set(t))\n",
        "print(result)"
      ],
      "metadata": {
        "id": "ruOvN78nKITr"
      },
      "execution_count": null,
      "outputs": []
    },
    {
      "cell_type": "code",
      "source": [],
      "metadata": {
        "id": "nHxaddu_KN9h"
      },
      "execution_count": null,
      "outputs": []
    }
  ]
}