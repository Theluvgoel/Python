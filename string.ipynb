{
  "nbformat": 4,
  "nbformat_minor": 0,
  "metadata": {
    "colab": {
      "provenance": []
    },
    "kernelspec": {
      "name": "python3",
      "display_name": "Python 3"
    },
    "language_info": {
      "name": "python"
    }
  },
  "cells": [
    {
      "cell_type": "code",
      "execution_count": null,
      "metadata": {
        "id": "kCubn_0I_2H_"
      },
      "outputs": [],
      "source": [
        "#Python program to check whether the string is Symmetrical or Palindrome\n",
        "def is_palindrome(s):\n",
        "    # Remove spaces and convert to lowercase\n",
        "    cleaned_string = s.replace(\" \", \"\").lower()\n",
        "    # Check if the string is equal to its reverse\n",
        "    return cleaned_string == cleaned_string[::-1]\n",
        "\n",
        "# Input from the user\n",
        "input_string = input(\"Enter a string: \")\n",
        "\n",
        "# Check if the string is a palindrome\n",
        "if is_palindrome(input_string):\n",
        "    print(f'\"{input_string}\" is a Palindrome.')\n",
        "else:\n",
        "    print(f'\"{input_string}\" is not a Palindrome.')"
      ]
    },
    {
      "cell_type": "code",
      "source": [
        "#Reverse words in a given String in Python\n",
        "def reverse_words(input_string):\n",
        "    # Split the string into words\n",
        "    words = input_string.split()\n",
        "    # Reverse the list of words\n",
        "    reversed_words = words[::-1]\n",
        "    # Join the reversed list back into a string\n",
        "    reversed_string = ' '.join(reversed_words)\n",
        "    return reversed_string\n",
        "\n",
        "# Input from the user\n",
        "input_string = input(\"Enter a string: \")\n",
        "\n",
        "# Get the reversed words\n",
        "result = reverse_words(input_string)\n",
        "\n",
        "# Print the result\n",
        "print(\"Reversed words:\", result)"
      ],
      "metadata": {
        "id": "R5gHggzMAYLR"
      },
      "execution_count": null,
      "outputs": []
    },
    {
      "cell_type": "code",
      "source": [
        "#Find length of a string in python\n",
        "#Using the len() Function\n",
        "input_string = \"Hello, World!\"\n",
        "length = len(input_string)\n",
        "print(\"Length of the string using len():\", length)\n",
        "\n",
        "#Using a Loop\n",
        "input_string = \"Hello, World!\"\n",
        "length = 0\n",
        "for char in input_string:\n",
        "    length += 1\n",
        "print(\"Length of the string using a loop:\", length)\n",
        "\n",
        "#Using str.count()\n",
        "input_string = \"Hello, World!\"\n",
        "length = input_string.count('') - 1  # Count empty strings between characters\n",
        "print(\"Length of the string using str.count():\", length)"
      ],
      "metadata": {
        "id": "auFYQEb1AfKn"
      },
      "execution_count": null,
      "outputs": []
    },
    {
      "cell_type": "code",
      "source": [
        "#Avoid Spaces in string length\n",
        "input_string = \"Hello World\"\n",
        "length = len(input_string.replace(\" \", \"\"))\n",
        "print(length)"
      ],
      "metadata": {
        "id": "yner-irvBoAH"
      },
      "execution_count": null,
      "outputs": []
    },
    {
      "cell_type": "code",
      "source": [
        "#Print Even Length Words in a String\n",
        "input_string = \"Hello world this is a test\"\n",
        "even_length_words = [word for word in input_string.split() if len(word) % 2 == 0]\n",
        "print(even_length_words)"
      ],
      "metadata": {
        "id": "JXwZS78qBrhJ"
      },
      "execution_count": null,
      "outputs": []
    },
    {
      "cell_type": "code",
      "source": [
        "#Uppercase Half String\n",
        "input_string = \"HelloWorld\"\n",
        "half_index = len(input_string) // 2\n",
        "result = input_string[:half_index].upper() + input_string[half_index:]\n",
        "print(result)"
      ],
      "metadata": {
        "id": "IL-fzNbaB0vV"
      },
      "execution_count": null,
      "outputs": []
    },
    {
      "cell_type": "code",
      "source": [
        "#Capitalize First and Last Character of Each Word\n",
        "input_string = \"hello world\"\n",
        "result = ' '.join(word[0].upper() + word[1:-1] + word[-1].upper() for word in input_string.split())\n",
        "print(result)"
      ],
      "metadata": {
        "id": "Wn_FQMitB6ZB"
      },
      "execution_count": null,
      "outputs": []
    },
    {
      "cell_type": "code",
      "source": [
        "#Check if a String Has at Least One Letter and One Number\n",
        "input_string = \"Hello123\"\n",
        "has_letter = any(char.isalpha() for char in input_string)\n",
        "has_number = any(char.isdigit() for char in input_string)\n",
        "print(has_letter and has_number)"
      ],
      "metadata": {
        "id": "WhmwP4SSB_UJ"
      },
      "execution_count": null,
      "outputs": []
    },
    {
      "cell_type": "code",
      "source": [
        "#Accept Strings Which Contains All Vowels\n",
        "input_string = \"education\"\n",
        "vowels = set(\"aeiouAEIOU\")\n",
        "contains_all_vowels = vowels.issubset(set(input_string))\n",
        "print(contains_all_vowels)"
      ],
      "metadata": {
        "id": "0aceIxFTCb_1"
      },
      "execution_count": null,
      "outputs": []
    },
    {
      "cell_type": "code",
      "source": [
        "#Count Number of Vowels Using Sets\n",
        "input_string = \"Hello World\"\n",
        "vowels = set(\"aeiouAEIOU\")\n",
        "count = sum(1 for char in input_string if char in vowels)\n",
        "print(count)"
      ],
      "metadata": {
        "id": "OR36NCMPCobD"
      },
      "execution_count": null,
      "outputs": []
    },
    {
      "cell_type": "code",
      "source": [
        "#Remove All Duplicates from a Given String\n",
        "input_string = \"Hello World\"\n",
        "result = ''.join(set(input_string))\n",
        "print(result)"
      ],
      "metadata": {
        "id": "nDWdT1UWC2_8"
      },
      "execution_count": null,
      "outputs": []
    },
    {
      "cell_type": "code",
      "source": [
        "#Specific Characters Frequency in String List\n",
        "input_string = \"Hello World\"\n",
        "char = 'o'\n",
        "frequency = input_string.count(char)\n",
        "print(frequency)"
      ],
      "metadata": {
        "id": "ZdP2LlSzDlvg"
      },
      "execution_count": null,
      "outputs": []
    }
  ]
}