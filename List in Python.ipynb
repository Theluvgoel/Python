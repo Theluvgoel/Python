{
  "nbformat": 4,
  "nbformat_minor": 0,
  "metadata": {
    "colab": {
      "provenance": []
    },
    "kernelspec": {
      "name": "python3",
      "display_name": "Python 3"
    },
    "language_info": {
      "name": "python"
    }
  },
  "cells": [
    {
      "cell_type": "markdown",
      "source": [
        "Write a Program to interchange first and last elements in a list"
      ],
      "metadata": {
        "id": "WmOLwvxSzLZm"
      }
    },
    {
      "cell_type": "code",
      "execution_count": null,
      "metadata": {
        "colab": {
          "base_uri": "https://localhost:8080/"
        },
        "id": "vEsOGF4tzIyU",
        "outputId": "5d26796d-4e6b-4edc-d69b-1bbec93669a3"
      },
      "outputs": [
        {
          "output_type": "stream",
          "name": "stdout",
          "text": [
            "[5, 2, 3, 4, 1]\n"
          ]
        }
      ],
      "source": [
        "mylist=[1,2,3,4,5]\n",
        "mylist[0],mylist[-1]=mylist[-1],mylist[0]\n",
        "print(mylist)"
      ]
    },
    {
      "cell_type": "markdown",
      "source": [
        "Program to swap two elements in a list\n"
      ],
      "metadata": {
        "id": "hsVgjbQfzSde"
      }
    },
    {
      "cell_type": "code",
      "source": [
        "mylist=[1,2,3,4,5]\n",
        "pos1,pos2=1,4\n",
        "mylist[pos1],mylist[pos2]=mylist[pos2],mylist[pos1]\n",
        "print(mylist)"
      ],
      "metadata": {
        "id": "EIcoSAwlzTOt",
        "colab": {
          "base_uri": "https://localhost:8080/"
        },
        "outputId": "cd7750a4-c178-4af7-df10-2cf397824849"
      },
      "execution_count": null,
      "outputs": [
        {
          "output_type": "stream",
          "name": "stdout",
          "text": [
            "[1, 5, 3, 4, 2]\n"
          ]
        }
      ]
    },
    {
      "cell_type": "markdown",
      "source": [
        "Swap elements in String list\n"
      ],
      "metadata": {
        "id": "SfXuMQggzTxL"
      }
    },
    {
      "cell_type": "code",
      "source": [
        "mylist=[\"apple\",\"banana\",\"orange\",\"cherry\"]\n",
        "pos1,pos2=1,3\n",
        "mylist[pos1],mylist[pos2]=mylist[pos2],mylist[pos1]\n",
        "print(mylist)"
      ],
      "metadata": {
        "id": "1SQG0wR-zV2b",
        "colab": {
          "base_uri": "https://localhost:8080/"
        },
        "outputId": "c6dd27ac-9914-4891-a1e9-42597a1d1be3"
      },
      "execution_count": null,
      "outputs": [
        {
          "output_type": "stream",
          "name": "stdout",
          "text": [
            "['apple', 'cherry', 'orange', 'banana']\n"
          ]
        }
      ]
    },
    {
      "cell_type": "markdown",
      "source": [
        "Ways to find length of list\n"
      ],
      "metadata": {
        "id": "heqFpe6IzWMp"
      }
    },
    {
      "cell_type": "code",
      "source": [
        "mylist=[1,2,3,4,5]\n",
        "print(len(mylist))"
      ],
      "metadata": {
        "id": "oTeL1boJzYY-",
        "colab": {
          "base_uri": "https://localhost:8080/"
        },
        "outputId": "d494ee9e-34f4-41b5-8d52-b4e0288ded33"
      },
      "execution_count": null,
      "outputs": [
        {
          "output_type": "stream",
          "name": "stdout",
          "text": [
            "5\n"
          ]
        }
      ]
    },
    {
      "cell_type": "markdown",
      "source": [
        "Maximum of two numbers in Python\n"
      ],
      "metadata": {
        "id": "YtjB2SYbzYyL"
      }
    },
    {
      "cell_type": "code",
      "source": [
        "a=10\n",
        "b=15\n",
        "if a>b:\n",
        "  print(a)\n",
        "else:\n",
        "  print(b)"
      ],
      "metadata": {
        "id": "xWmscqfZza19",
        "colab": {
          "base_uri": "https://localhost:8080/"
        },
        "outputId": "89b51c90-4300-4ae6-87af-03ea7b004f67"
      },
      "execution_count": null,
      "outputs": [
        {
          "output_type": "stream",
          "name": "stdout",
          "text": [
            "15\n"
          ]
        }
      ]
    },
    {
      "cell_type": "markdown",
      "source": [
        "Minimum of two numbers in Python\n"
      ],
      "metadata": {
        "id": "DmT8OHGOzbu3"
      }
    },
    {
      "cell_type": "code",
      "source": [
        "a=10\n",
        "b=15\n",
        "if a<b:\n",
        "  print(a)\n",
        "else:\n",
        "  print(b)"
      ],
      "metadata": {
        "id": "H_BjxWOzzdqD",
        "colab": {
          "base_uri": "https://localhost:8080/"
        },
        "outputId": "ed262163-df20-4efb-b3ec-13f93e458405"
      },
      "execution_count": null,
      "outputs": [
        {
          "output_type": "stream",
          "name": "stdout",
          "text": [
            "10\n"
          ]
        }
      ]
    },
    {
      "cell_type": "markdown",
      "source": [
        "Ways to check if element exists in list\n"
      ],
      "metadata": {
        "id": "2ToioVuxzeWp"
      }
    },
    {
      "cell_type": "code",
      "source": [
        "mylist=[1,2,3,4,5]\n",
        "if 7 in mylist:\n",
        "  print(\"yes\")\n",
        "else:\n",
        "  print(\"no\")"
      ],
      "metadata": {
        "id": "-YubgMltzg_p",
        "colab": {
          "base_uri": "https://localhost:8080/"
        },
        "outputId": "2304f75c-bbf7-456b-e633-1f92a2914744"
      },
      "execution_count": null,
      "outputs": [
        {
          "output_type": "stream",
          "name": "stdout",
          "text": [
            "no\n"
          ]
        }
      ]
    },
    {
      "cell_type": "markdown",
      "source": [
        "Different ways to clear a list in Python\n"
      ],
      "metadata": {
        "id": "imLbaNMezge5"
      }
    },
    {
      "cell_type": "code",
      "source": [
        "mylist=[1,2,3,4,5]\n",
        "mylist.clear()\n",
        "print(mylist)"
      ],
      "metadata": {
        "id": "3VLzlHQ90Do_",
        "colab": {
          "base_uri": "https://localhost:8080/"
        },
        "outputId": "5986d9c3-baf8-4cc2-e7ab-e8252c87451b"
      },
      "execution_count": null,
      "outputs": [
        {
          "output_type": "stream",
          "name": "stdout",
          "text": [
            "[]\n"
          ]
        }
      ]
    },
    {
      "cell_type": "markdown",
      "source": [
        "Reversing a List\n"
      ],
      "metadata": {
        "id": "uPg6DPcZzk-r"
      }
    },
    {
      "cell_type": "code",
      "source": [
        "mylist=[1,2,6,4,5]\n",
        "mylist.sort(reverse=True)\n",
        "print(mylist)"
      ],
      "metadata": {
        "id": "lu8r4gL_0ETu",
        "colab": {
          "base_uri": "https://localhost:8080/"
        },
        "outputId": "244ddb5c-7e45-45f8-bea7-a6ae80fff18e"
      },
      "execution_count": null,
      "outputs": [
        {
          "output_type": "stream",
          "name": "stdout",
          "text": [
            "[6, 5, 4, 2, 1]\n"
          ]
        }
      ]
    },
    {
      "cell_type": "markdown",
      "source": [
        "Cloning or Copying a list\n"
      ],
      "metadata": {
        "id": "dh4EuR9jzm5y"
      }
    },
    {
      "cell_type": "code",
      "source": [
        "mylist=[1,2,3,4,5]\n",
        "mylist2=mylist.copy()\n",
        "print(mylist2)"
      ],
      "metadata": {
        "id": "5EdbGaOJ0FTm",
        "colab": {
          "base_uri": "https://localhost:8080/"
        },
        "outputId": "434461d6-640e-4207-d91e-780f2c9997fd"
      },
      "execution_count": null,
      "outputs": [
        {
          "output_type": "stream",
          "name": "stdout",
          "text": [
            "[1, 2, 3, 4, 5]\n"
          ]
        }
      ]
    },
    {
      "cell_type": "markdown",
      "source": [
        "Count occurrences of an element in a list\n"
      ],
      "metadata": {
        "id": "1J0F8IyNzowb"
      }
    },
    {
      "cell_type": "code",
      "source": [
        "mylist=[1,2,2,2,3,4,5]\n",
        "print(mylist.count(2))\n"
      ],
      "metadata": {
        "id": "vT_gXhKp0GUq",
        "colab": {
          "base_uri": "https://localhost:8080/"
        },
        "outputId": "c42f4416-b1e4-4542-ef43-527246ddd3c6"
      },
      "execution_count": null,
      "outputs": [
        {
          "output_type": "stream",
          "name": "stdout",
          "text": [
            "3\n"
          ]
        }
      ]
    },
    {
      "cell_type": "markdown",
      "source": [
        "Program to find sum and average of List in Python\n"
      ],
      "metadata": {
        "id": "qwXw1Cb-zqrE"
      }
    },
    {
      "cell_type": "code",
      "source": [
        "mylist=[1,2,3,4,10]\n",
        "print(sum(mylist))\n",
        "print(sum(mylist)/len(mylist))"
      ],
      "metadata": {
        "id": "--FtgAUP0Gyz",
        "colab": {
          "base_uri": "https://localhost:8080/"
        },
        "outputId": "b1048dc4-db19-4c3a-f5e9-8e11daec6fcd"
      },
      "execution_count": null,
      "outputs": [
        {
          "output_type": "stream",
          "name": "stdout",
          "text": [
            "20\n",
            "4.0\n"
          ]
        }
      ]
    },
    {
      "cell_type": "markdown",
      "source": [
        "Sum of number digits in List\n"
      ],
      "metadata": {
        "id": "sSuUyyHlzsnI"
      }
    },
    {
      "cell_type": "code",
      "source": [
        "mylist1=[1,2,3,4,5,7]\n",
        "sum=0\n",
        "for i in mylist1:\n",
        "  sum+=i\n",
        "print(sum)"
      ],
      "metadata": {
        "id": "uqAPKgsQ0Hh-",
        "colab": {
          "base_uri": "https://localhost:8080/"
        },
        "outputId": "d5c57d38-ea3d-4921-b17a-b31a53ba81ee"
      },
      "execution_count": null,
      "outputs": [
        {
          "output_type": "stream",
          "name": "stdout",
          "text": [
            "22\n"
          ]
        }
      ]
    },
    {
      "cell_type": "markdown",
      "source": [
        "Multiply all numbers in the list\n"
      ],
      "metadata": {
        "id": "6ceQceJNzulM"
      }
    },
    {
      "cell_type": "code",
      "source": [
        "mylist=[1,2,3,4,10]\n",
        "multiply=1\n",
        "for i in mylist:\n",
        "  multiply*=i\n",
        "print(multiply)"
      ],
      "metadata": {
        "id": "SdZ0vptQ0IBC",
        "colab": {
          "base_uri": "https://localhost:8080/"
        },
        "outputId": "24419318-a1d5-4ce8-e7a3-a05f81535226"
      },
      "execution_count": null,
      "outputs": [
        {
          "output_type": "stream",
          "name": "stdout",
          "text": [
            "240\n"
          ]
        }
      ]
    },
    {
      "cell_type": "markdown",
      "source": [
        "Program to find smallest number in a list\n"
      ],
      "metadata": {
        "id": "LDjK-0uqzwhM"
      }
    },
    {
      "cell_type": "code",
      "source": [
        "mylist=[7,2,3,4,10]\n",
        "mylist.sort()\n",
        "print(mylist[0])"
      ],
      "metadata": {
        "id": "jkcgtqDI0I6v",
        "colab": {
          "base_uri": "https://localhost:8080/"
        },
        "outputId": "c585fd13-a255-4af1-e9e4-077927e3601b"
      },
      "execution_count": null,
      "outputs": [
        {
          "output_type": "stream",
          "name": "stdout",
          "text": [
            "2\n"
          ]
        }
      ]
    },
    {
      "cell_type": "markdown",
      "source": [
        "Program to find largest number in a list\n"
      ],
      "metadata": {
        "id": "L7JlsC1O5QGs"
      }
    },
    {
      "cell_type": "code",
      "source": [
        "mylist=[7,2,3,4,10]\n",
        "mylist.sort()\n",
        "print(mylist[-1])"
      ],
      "metadata": {
        "colab": {
          "base_uri": "https://localhost:8080/"
        },
        "id": "KStcR6z5VtIh",
        "outputId": "41c90b53-b109-482d-b21b-071ef54f4c62"
      },
      "execution_count": null,
      "outputs": [
        {
          "output_type": "stream",
          "name": "stdout",
          "text": [
            "10\n"
          ]
        }
      ]
    },
    {
      "cell_type": "markdown",
      "source": [
        "Program to find second largest number in a list\n"
      ],
      "metadata": {
        "id": "0UjeAGKaVN40"
      }
    },
    {
      "cell_type": "code",
      "source": [
        "mylist=[7,2,3,4,10]\n",
        "mylist.sort()\n",
        "print(mylist[-2])"
      ],
      "metadata": {
        "colab": {
          "base_uri": "https://localhost:8080/"
        },
        "id": "z96eM4WxV4AE",
        "outputId": "6ad5c029-2a7a-4f37-a6d6-0483a72b3007"
      },
      "execution_count": null,
      "outputs": [
        {
          "output_type": "stream",
          "name": "stdout",
          "text": [
            "7\n"
          ]
        }
      ]
    },
    {
      "cell_type": "markdown",
      "source": [
        "Program to print even numbers in a list\n"
      ],
      "metadata": {
        "id": "ntLNJ2gJVRxT"
      }
    },
    {
      "cell_type": "code",
      "source": [
        "mylist=[7,2,3,4,10]\n",
        "for i in mylist:\n",
        "  if i%2==0:\n",
        "    print(i)"
      ],
      "metadata": {
        "colab": {
          "base_uri": "https://localhost:8080/"
        },
        "id": "s29k4MzbWAoz",
        "outputId": "fc46e4cf-39bf-4f6f-894e-4a9b0b4fe2ad"
      },
      "execution_count": null,
      "outputs": [
        {
          "output_type": "stream",
          "name": "stdout",
          "text": [
            "2\n",
            "4\n",
            "10\n"
          ]
        }
      ]
    },
    {
      "cell_type": "markdown",
      "source": [
        "Program to print odd numbers in a List\n"
      ],
      "metadata": {
        "id": "0WpKiNozVT-F"
      }
    },
    {
      "cell_type": "code",
      "source": [
        "mylist=[7,2,3,4,10]\n",
        "for i in mylist:\n",
        "  if i%2!=0:\n",
        "    print(i)"
      ],
      "metadata": {
        "colab": {
          "base_uri": "https://localhost:8080/"
        },
        "id": "GDSGy0dXWaOt",
        "outputId": "908e80ce-fc4c-42d2-ae65-807362ce59dc"
      },
      "execution_count": null,
      "outputs": [
        {
          "output_type": "stream",
          "name": "stdout",
          "text": [
            "7\n",
            "3\n"
          ]
        }
      ]
    },
    {
      "cell_type": "markdown",
      "source": [
        "Program to print all even numbers in a range\n"
      ],
      "metadata": {
        "id": "fOJTmzghVWRy"
      }
    },
    {
      "cell_type": "code",
      "source": [],
      "metadata": {
        "id": "TTpw3uK6Whim"
      },
      "execution_count": null,
      "outputs": []
    },
    {
      "cell_type": "markdown",
      "source": [
        "Program to print all odd numbers in a range\n"
      ],
      "metadata": {
        "id": "14zlAvOkVYIS"
      }
    },
    {
      "cell_type": "code",
      "source": [
        "range="
      ],
      "metadata": {
        "id": "xVaQvjvbt0HE"
      },
      "execution_count": null,
      "outputs": []
    },
    {
      "cell_type": "markdown",
      "source": [
        "Program to count Even and Odd numbers in a List\n"
      ],
      "metadata": {
        "id": "5BcbqdiCVaVW"
      }
    },
    {
      "cell_type": "code",
      "source": [
        "mylist=[1,2,3,4,5]\n",
        "evencount=0\n",
        "oddcount=0\n",
        "for i in mylist:\n",
        "  if i%2==0:\n",
        "    evencount+=1\n",
        "  else:\n",
        "    oddcount+=1\n",
        "print(\"evencount:\",evencount)\n",
        "print(\"oddcount:\",oddcount)"
      ],
      "metadata": {
        "colab": {
          "base_uri": "https://localhost:8080/"
        },
        "id": "S26NOGU5vq0Z",
        "outputId": "a4b17e7c-b3fe-446e-ba57-d4fcfc22edf1"
      },
      "execution_count": null,
      "outputs": [
        {
          "output_type": "stream",
          "name": "stdout",
          "text": [
            "evencount: 2\n",
            "oddcount: 3\n"
          ]
        }
      ]
    },
    {
      "cell_type": "markdown",
      "source": [
        "Program to print positive numbers in a list\n"
      ],
      "metadata": {
        "id": "dxT9GX8BVcOo"
      }
    },
    {
      "cell_type": "code",
      "source": [
        "mylist=[1,-2,3,-4,5]\n",
        "for i in mylist:\n",
        "  if i>-1:\n",
        "    print(i)\n",
        "\n"
      ],
      "metadata": {
        "colab": {
          "base_uri": "https://localhost:8080/"
        },
        "id": "S9wip5xFu0ui",
        "outputId": "983f2de0-1f78-493d-f454-3dc4b7ebf271"
      },
      "execution_count": null,
      "outputs": [
        {
          "output_type": "stream",
          "name": "stdout",
          "text": [
            "1\n",
            "3\n",
            "5\n"
          ]
        }
      ]
    },
    {
      "cell_type": "markdown",
      "source": [
        "Program to print negative numbers in a list\n"
      ],
      "metadata": {
        "id": "XzjF3eXsVeFX"
      }
    },
    {
      "cell_type": "code",
      "source": [
        "mylist=[1,-2,3,-4,5]\n",
        "for i in mylist:\n",
        "  if i<0:\n",
        "    print(i)"
      ],
      "metadata": {
        "colab": {
          "base_uri": "https://localhost:8080/"
        },
        "id": "Rj9Ne1vWxSoF",
        "outputId": "4c4f5455-9204-42d1-da8d-adcf93735ff3"
      },
      "execution_count": null,
      "outputs": [
        {
          "output_type": "stream",
          "name": "stdout",
          "text": [
            "-2\n",
            "-4\n"
          ]
        }
      ]
    },
    {
      "cell_type": "markdown",
      "source": [
        "Program to print all positive numbers in a range"
      ],
      "metadata": {
        "id": "EHiQFIr-Vf5W"
      }
    },
    {
      "cell_type": "code",
      "source": [
        "start = int(input(\"Enter the start of the range: \"))\n",
        "end = int(input(\"Enter the end of the range: \"))\n",
        "print(\"Positive numbers in the range:\")\n",
        "for number in range(start,end+1):\n",
        "   if number>0:\n",
        "      print(number)"
      ],
      "metadata": {
        "colab": {
          "base_uri": "https://localhost:8080/"
        },
        "id": "k2auWu0Ry21t",
        "outputId": "82d8cb7b-704e-481a-c4df-db25ce43880e"
      },
      "execution_count": 3,
      "outputs": [
        {
          "output_type": "stream",
          "name": "stdout",
          "text": [
            "Enter the start of the range: -1\n",
            "Enter the end of the range: 5\n",
            "Positive numbers in the range:\n",
            "1\n",
            "2\n",
            "3\n",
            "4\n",
            "5\n"
          ]
        }
      ]
    },
    {
      "cell_type": "markdown",
      "source": [
        "Program to print all negative numbers in a range\n"
      ],
      "metadata": {
        "id": "96VBf5BoVhr8"
      }
    },
    {
      "cell_type": "code",
      "source": [
        "start = int(input(\"Enter the start of the range: \"))\n",
        "end = int(input(\"Enter the end of the range: \"))\n",
        "print(\"Positive numbers in the range:\")\n",
        "for number in range(start,end+1):\n",
        "  if number<0:\n",
        "    print(number)"
      ],
      "metadata": {
        "colab": {
          "base_uri": "https://localhost:8080/"
        },
        "id": "SoKhE4zHzagj",
        "outputId": "ac592f32-2657-4419-8cbd-ee744a4f694f"
      },
      "execution_count": 5,
      "outputs": [
        {
          "output_type": "stream",
          "name": "stdout",
          "text": [
            "Enter the start of the range: -1\n",
            "Enter the end of the range: 1\n",
            "Positive numbers in the range:\n",
            "-1\n"
          ]
        }
      ]
    },
    {
      "cell_type": "markdown",
      "source": [
        "Program to count positive and negative numbers in a list\n"
      ],
      "metadata": {
        "id": "OaKyfohTVje-"
      }
    },
    {
      "cell_type": "code",
      "source": [
        "Mylist=[1,-2,3,-4,5]\n",
        "Positive=0\n",
        "Negative=0\n",
        "for i in Mylist:\n",
        "  if i>-1:\n",
        "   Positive+=1\n",
        "  else:\n",
        "   Negative+=1\n",
        "print(\"Positive:\", Positive)\n",
        "print(\"Negative:\", Negative)"
      ],
      "metadata": {
        "colab": {
          "base_uri": "https://localhost:8080/"
        },
        "id": "-OHDYWGVpmF7",
        "outputId": "955ff6a6-705a-42a5-c296-785fac9bff70"
      },
      "execution_count": null,
      "outputs": [
        {
          "output_type": "stream",
          "name": "stdout",
          "text": [
            "Positive: 3\n",
            "Negative: 2\n"
          ]
        }
      ]
    },
    {
      "cell_type": "markdown",
      "source": [
        "Remove multiple elements from a list in Python"
      ],
      "metadata": {
        "id": "P9R1lQhpVlr8"
      }
    },
    {
      "cell_type": "code",
      "source": [
        "Mylist=[1,2,3,4,5]\n",
        "RemoveElements=[2,4]\n",
        "for i in RemoveElements:\n",
        "  if i in Mylist:\n",
        "    Mylist.remove(i)\n",
        "print(Mylist)"
      ],
      "metadata": {
        "colab": {
          "base_uri": "https://localhost:8080/"
        },
        "id": "PsoOoT0SsBPv",
        "outputId": "8a808171-46d1-4b8d-fb8c-378ab90b74ec"
      },
      "execution_count": null,
      "outputs": [
        {
          "output_type": "stream",
          "name": "stdout",
          "text": [
            "[1, 3, 5]\n"
          ]
        }
      ]
    },
    {
      "cell_type": "markdown",
      "source": [
        "Remove empty tuples from a list\n"
      ],
      "metadata": {
        "id": "X78-ln4cVnli"
      }
    },
    {
      "cell_type": "code",
      "source": [
        "original_list = [(1, 2),(),(3, 4)]\n",
        "filtered_list = [tup for tup in original_list if tup]\n",
        "print(filtered_list)"
      ],
      "metadata": {
        "colab": {
          "base_uri": "https://localhost:8080/"
        },
        "id": "jEgMLoi70HN1",
        "outputId": "3a2ba547-376b-4e6a-b00e-76340487b9cb"
      },
      "execution_count": 8,
      "outputs": [
        {
          "output_type": "stream",
          "name": "stdout",
          "text": [
            "[(1, 2), (3, 4)]\n"
          ]
        }
      ]
    },
    {
      "cell_type": "markdown",
      "source": [
        "Program to print duplicates from a list of integers\n"
      ],
      "metadata": {
        "id": "fHeCKiwWVpxp"
      }
    },
    {
      "cell_type": "code",
      "source": [
        "Mylist = [1,2,2,3,3,4,5]\n",
        "duplicates = []\n",
        "\n",
        "for i in Mylist:\n",
        "    if Mylist.count(i) > 1 and i not in duplicates:\n",
        "        duplicates.append(i)\n",
        "\n",
        "# Print the duplicates\n",
        "for duplicate in duplicates:\n",
        "    print(duplicate)"
      ],
      "metadata": {
        "colab": {
          "base_uri": "https://localhost:8080/"
        },
        "id": "xXc9sMdmtwrO",
        "outputId": "3deaa0b9-2da7-4284-f798-90a5aa5323a2"
      },
      "execution_count": null,
      "outputs": [
        {
          "output_type": "stream",
          "name": "stdout",
          "text": [
            "2\n",
            "3\n"
          ]
        }
      ]
    }
  ]
}